{
 "cells": [
  {
   "cell_type": "markdown",
   "metadata": {},
   "source": [
    "# PART 3: SUPERVISED LEARNING; GENERALIZATION AND OVERFITTING; DECISION TREE"
   ]
  },
  {
   "cell_type": "markdown",
   "metadata": {},
   "source": [
    "# Setup"
   ]
  },
  {
   "cell_type": "code",
   "execution_count": 1,
   "metadata": {},
   "outputs": [],
   "source": [
    "# Python ≥3.5 is required\n",
    "import sys\n",
    "assert sys.version_info >= (3, 5)\n",
    "\n",
    "# Scikit-Learn ≥0.20 is \n",
    "import sklearn\n",
    "assert sklearn.__version__ >= \"0.20\"\n",
    "\n",
    "# Common imports\n",
    "import numpy as np\n",
    "import os\n",
    "import pandas as pd\n",
    "from collections import Counter\n",
    "\n",
    "from sklearn.tree import DecisionTreeClassifier,plot_tree\n",
    "from sklearn.model_selection import train_test_split\n",
    "from imblearn.over_sampling import SMOTE\n",
    "from imblearn.under_sampling import NearMiss\n",
    "from imblearn.under_sampling import RandomUnderSampler\n",
    "from imblearn.under_sampling import CondensedNearestNeighbour\n",
    "from collections import Counter\n",
    "from imblearn.over_sampling import RandomOverSampler\n",
    "from imblearn.under_sampling import RandomUnderSampler\n",
    "from sklearn.metrics import classification_report,confusion_matrix,accuracy_score, roc_curve, auc, precision_score\n",
    "from sklearn.preprocessing import MinMaxScaler\n",
    "from sklearn.model_selection import cross_val_score\n",
    "from sklearn.model_selection import RepeatedStratifiedKFold\n",
    "\n",
    "from collections import Counter\n",
    "from numpy import where\n",
    "from sklearn.preprocessing import StandardScaler\n",
    "import seaborn as sns\n",
    "\n",
    "# to make this notebook's output stable across runs\n",
    "np.random.seed(42)\n",
    "\n",
    "# To plot pretty figures\n",
    "%matplotlib inline\n",
    "import matplotlib as mpl\n",
    "import matplotlib.pyplot as plt\n",
    "mpl.rc('axes', labelsize=14)\n",
    "mpl.rc('xtick', labelsize=12)\n",
    "mpl.rc('ytick', labelsize=12)"
   ]
  },
  {
   "cell_type": "markdown",
   "metadata": {},
   "source": [
    "LOADING DATA SET AND FEATURE SELECTION"
   ]
  },
  {
   "cell_type": "code",
   "execution_count": 2,
   "metadata": {},
   "outputs": [
    {
     "data": {
      "text/html": [
       "<div>\n",
       "<style scoped>\n",
       "    .dataframe tbody tr th:only-of-type {\n",
       "        vertical-align: middle;\n",
       "    }\n",
       "\n",
       "    .dataframe tbody tr th {\n",
       "        vertical-align: top;\n",
       "    }\n",
       "\n",
       "    .dataframe thead th {\n",
       "        text-align: right;\n",
       "    }\n",
       "</style>\n",
       "<table border=\"1\" class=\"dataframe\">\n",
       "  <thead>\n",
       "    <tr style=\"text-align: right;\">\n",
       "      <th></th>\n",
       "      <th>type</th>\n",
       "      <th>amount</th>\n",
       "      <th>oldbalanceOrg</th>\n",
       "      <th>newbalanceOrig</th>\n",
       "      <th>oldbalanceDest</th>\n",
       "      <th>newbalanceDest</th>\n",
       "      <th>isFraud</th>\n",
       "    </tr>\n",
       "  </thead>\n",
       "  <tbody>\n",
       "    <tr>\n",
       "      <th>0</th>\n",
       "      <td>0.0</td>\n",
       "      <td>218015.85</td>\n",
       "      <td>863.00</td>\n",
       "      <td>0.0</td>\n",
       "      <td>905136.36</td>\n",
       "      <td>843495.76</td>\n",
       "      <td>0</td>\n",
       "    </tr>\n",
       "    <tr>\n",
       "      <th>1</th>\n",
       "      <td>0.0</td>\n",
       "      <td>229518.37</td>\n",
       "      <td>20528.00</td>\n",
       "      <td>0.0</td>\n",
       "      <td>786.00</td>\n",
       "      <td>0.00</td>\n",
       "      <td>0</td>\n",
       "    </tr>\n",
       "    <tr>\n",
       "      <th>2</th>\n",
       "      <td>0.0</td>\n",
       "      <td>19707.44</td>\n",
       "      <td>289451.64</td>\n",
       "      <td>269744.2</td>\n",
       "      <td>3509020.91</td>\n",
       "      <td>3622590.61</td>\n",
       "      <td>0</td>\n",
       "    </tr>\n",
       "    <tr>\n",
       "      <th>3</th>\n",
       "      <td>0.0</td>\n",
       "      <td>82741.31</td>\n",
       "      <td>24543.00</td>\n",
       "      <td>0.0</td>\n",
       "      <td>6845.06</td>\n",
       "      <td>89586.37</td>\n",
       "      <td>0</td>\n",
       "    </tr>\n",
       "    <tr>\n",
       "      <th>4</th>\n",
       "      <td>1.0</td>\n",
       "      <td>30674.98</td>\n",
       "      <td>30674.98</td>\n",
       "      <td>0.0</td>\n",
       "      <td>0.00</td>\n",
       "      <td>0.00</td>\n",
       "      <td>1</td>\n",
       "    </tr>\n",
       "  </tbody>\n",
       "</table>\n",
       "</div>"
      ],
      "text/plain": [
       "   type     amount  oldbalanceOrg  newbalanceOrig  oldbalanceDest  \\\n",
       "0   0.0  218015.85         863.00             0.0       905136.36   \n",
       "1   0.0  229518.37       20528.00             0.0          786.00   \n",
       "2   0.0   19707.44      289451.64        269744.2      3509020.91   \n",
       "3   0.0   82741.31       24543.00             0.0         6845.06   \n",
       "4   1.0   30674.98       30674.98             0.0            0.00   \n",
       "\n",
       "   newbalanceDest  isFraud  \n",
       "0       843495.76        0  \n",
       "1            0.00        0  \n",
       "2      3622590.61        0  \n",
       "3        89586.37        0  \n",
       "4            0.00        1  "
      ]
     },
     "execution_count": 2,
     "metadata": {},
     "output_type": "execute_result"
    }
   ],
   "source": [
    "\n",
    "# The Data is uploaded to Notebook in csv file, \n",
    "# we will store it in dataFrame (transactions) using pandas read_csv method\n",
    "# in this Nootebook we will be analysing Test Data generated for credit card fraud.\n",
    "# This Data is downloded from kaggle from this link: https://www.kaggle.com/ealaxi/paysim1\n",
    "\n",
    "# Loading config files\n",
    "import json\n",
    "with open('config.json', 'r') as f:\n",
    "    config = json.load(f)\n",
    "\n",
    "# Loading datasets using pandas to variable 'transactions'\n",
    "transactions = pd.read_csv(config['Training_Dataset'])\n",
    "\n",
    "# normalize dataset\n",
    "import helper\n",
    "# remoing unnecessary attributes that wont be used in our clustering\n",
    "transactions = helper.preprocessDataset(transactions)\n",
    "\n",
    "#transactions_in_24hrs = transactions[transactions['step'] < 13]\n",
    "\n",
    "transactions.head()\n",
    "\n",
    "\n",
    "# checking data size after normalization\n",
    "#transactions.describe()\n",
    "#transactions.info(memory_usage = \"deep\")"
   ]
  },
  {
   "cell_type": "markdown",
   "metadata": {},
   "source": [
    "# DECISION TREEE CLASSIFICATION"
   ]
  },
  {
   "cell_type": "markdown",
   "metadata": {},
   "source": [
    "TASK 1: PREPARING TEST AND TRAIN DATASETS"
   ]
  },
  {
   "cell_type": "code",
   "execution_count": 3,
   "metadata": {},
   "outputs": [],
   "source": [
    "# get X and y\n",
    "X = transactions.iloc[:, :-1]\n",
    "y = transactions.isFraud\n",
    "\n",
    "\n",
    "# scale dataset to scale outliers\n",
    "# scaler = MinMaxScaler()\n",
    "#scaler.fit(X)\n",
    "#X = scaler.transform(X)\n",
    "\n",
    "# split dataset to test and train sets\n",
    "X_train, X_test, y_train, y_test = train_test_split(X, y, test_size=0.20, random_state=42, stratify=y, shuffle=True)\n"
   ]
  },
  {
   "cell_type": "markdown",
   "metadata": {},
   "source": [
    "Now that we have splited our dataset to train and test, and we know we have unbalanced dataset, using this will make classifier bias towards majority class and produces inflated performance measures which are not accurate, to avoid this we need to balance or dataset by either undersampling to minority class or oversampling to majority class.\n",
    "\n",
    "So we will use RandomUndersampler from imblearn library to undersamply only train dataset and test later the classifier with the original unbalanced test data, we will be using class_weight=balanced in deceision tree to make sure classes are distributed when training our classifier"
   ]
  },
  {
   "cell_type": "code",
   "execution_count": 4,
   "metadata": {},
   "outputs": [],
   "source": [
    "# balancing only train sets seperately to avoid feature leaking\n",
    "X_train, y_train = helper.balanceDataSet(X_train, y_train, 'undersample')"
   ]
  },
  {
   "cell_type": "markdown",
   "metadata": {},
   "source": [
    "TASK 2: RUN DECISION TREE CLASSIFIER ON TRAIN DATASET AND MEASURE ACCURACY"
   ]
  },
  {
   "cell_type": "markdown",
   "metadata": {},
   "source": [
    "TASK 2.1: Running the decision tree classifier on training set"
   ]
  },
  {
   "cell_type": "code",
   "execution_count": 5,
   "metadata": {},
   "outputs": [
    {
     "data": {
      "image/png": "[encoded data removed]",
      "text/plain": [
       "<Figure size 432x288 with 1 Axes>"
      ]
     },
     "metadata": {
      "needs_background": "light"
     },
     "output_type": "display_data"
    }
   ],
   "source": [
    "# Train Classifier\n",
    "tree_clf = DecisionTreeClassifier(max_depth=2, random_state=42, class_weight='balanced')\n",
    "tree_clf.fit(X_train, y_train)\n",
    "plot_tree(tree_clf, class_names =[\"genuine\", \"fraud\"], filled = True, fontsize='8')\n",
    "plt.show()"
   ]
  },
  {
   "cell_type": "markdown",
   "metadata": {},
   "source": [
    "TASK 2.2: Calculating Accuracy using same training set"
   ]
  },
  {
   "cell_type": "code",
   "execution_count": 6,
   "metadata": {},
   "outputs": [
    {
     "name": "stdout",
     "output_type": "stream",
     "text": [
      "              precision    recall  f1-score   support\n",
      "\n",
      "           0       0.97      0.78      0.86      6570\n",
      "           1       0.81      0.98      0.89      6570\n",
      "\n",
      "    accuracy                           0.88     13140\n",
      "   macro avg       0.89      0.88      0.88     13140\n",
      "weighted avg       0.89      0.88      0.88     13140\n",
      "\n"
     ]
    }
   ],
   "source": [
    "y_pred = tree_clf.predict(X_train)\n",
    "print(classification_report(y_train, y_pred))"
   ]
  },
  {
   "cell_type": "markdown",
   "metadata": {},
   "source": [
    "TASK 2.3: Measurment of the  accuracy  on  the  training  set  using  10-fold  cross-validation."
   ]
  },
  {
   "cell_type": "code",
   "execution_count": 7,
   "metadata": {},
   "outputs": [],
   "source": [
    "#from sklearn.model_selection import KFold, StratifiedKFold, RepeatedStratifiedKFold, cross_validate\n",
    "#from numpy import mean\n",
    "#cv = StratifiedKFold(n_splits=10, shuffle=True, random_state=42)\n",
    "#cv = KFold(n_splits=10, shuffle=True, random_state=10)\n",
    "#scores = cross_val_score(DecisionTreeClassifier(), X_train, y_train, cv=cv)\n",
    "#scores = []\n",
    "#for train_index, test_index in cv.split(X_train, y_train):\n",
    "     #print(\"TRAIN:\", train_index, \"TEST:\", test_index)\n",
    "#     train_X, test_X = X_train[train_index], X_train[test_index]\n",
    "#     train_y, test_y = y_train[train_index], y_train[test_index]\n",
    "\t\n",
    "#     dtclf = DecisionTreeClassifier()\n",
    "#     dtclf.fit(train_X, train_y)\n",
    "     #y_pred = dtclf.predict(X_test)\n",
    "     #display_measures(y_test, y_pred)\n",
    "#     scores.append(dtclf.score(test_X, test_y))\n",
    "# print(\"scores after apply 10 fold cross validation: \",scores)\n",
    "# print(\"accuracy after apply 10 fold cross validation: \",mean(scores))"
   ]
  },
  {
   "cell_type": "code",
   "execution_count": 7,
   "metadata": {},
   "outputs": [
    {
     "name": "stdout",
     "output_type": "stream",
     "text": [
      "accuracy:  0.8766362252663622\n",
      "precision:  0.8132546727101868\n",
      "recall:  0.9779299847792998\n",
      "f1_score:  0.8879947488619019\n"
     ]
    }
   ],
   "source": [
    "from sklearn.model_selection import KFold, StratifiedKFold, RepeatedStratifiedKFold, cross_validate\n",
    "from numpy import mean\n",
    "from sklearn.metrics import make_scorer, accuracy_score, precision_score, recall_score, f1_score\n",
    "\n",
    "scoring = {'accuracy' : make_scorer(accuracy_score), \n",
    "           'precision' : make_scorer(precision_score),\n",
    "           'recall' : make_scorer(recall_score), \n",
    "           'f1_score' : make_scorer(f1_score)}\n",
    "\n",
    "kfold = StratifiedKFold(n_splits=10, shuffle=True, random_state=10)#KFold(n_splits=10, shuffle=True, random_state=10)\n",
    "model = DecisionTreeClassifier(max_depth=2, random_state=42, class_weight='balanced') \n",
    "\n",
    "results = cross_validate(estimator=model, X=X_train, y=y_train, cv=kfold, scoring=scoring)\n",
    "#print(results)\n",
    "print(\"accuracy: \", mean(results['test_accuracy']))\n",
    "print(\"precision: \", mean(results['test_precision']))\n",
    "print(\"recall: \", mean(results['test_recall']))\n",
    "print(\"f1_score: \", mean(results['test_f1_score']))"
   ]
  },
  {
   "cell_type": "markdown",
   "metadata": {},
   "source": [
    "Observations:\n",
    "\n",
    "With 10 fold cross validation, we observe that accuracy droped alittle fro 0.88 to 0.87, something to notice here is recal is improving in this experiment, overall this shows that our model is still overfitting even after 10 fold cross validation"
   ]
  },
  {
   "cell_type": "markdown",
   "metadata": {},
   "source": [
    "TASK 3: Using  training  and  testing  data  sets  instead  of  the  cross validation."
   ]
  },
  {
   "cell_type": "code",
   "execution_count": 8,
   "metadata": {},
   "outputs": [
    {
     "name": "stdout",
     "output_type": "stream",
     "text": [
      "              precision    recall  f1-score   support\n",
      "\n",
      "           0       1.00      0.78      0.87     18400\n",
      "           1       0.28      0.97      0.44      1643\n",
      "\n",
      "    accuracy                           0.79     20043\n",
      "   macro avg       0.64      0.88      0.66     20043\n",
      "weighted avg       0.94      0.79      0.84     20043\n",
      "\n"
     ]
    }
   ],
   "source": [
    "split_tree_clf = DecisionTreeClassifier(max_depth=2, random_state=42, class_weight='balanced')\n",
    "split_tree_clf.fit(X_train, y_train)\n",
    "from sklearn.metrics import classification_report,confusion_matrix,accuracy_score, roc_curve, auc, precision_score\n",
    "y_test_pred = split_tree_clf.predict(X_test)\n",
    "\n",
    "print(classification_report(y_test, y_test_pred))\n"
   ]
  },
  {
   "cell_type": "markdown",
   "metadata": {},
   "source": [
    "Observations: When we introduced new test data to our model it seems that it not doing wel in terms of occuracy, it went down to 0.79 from 0.88, this shows that the model doesnt generalize well to new data which is a symptom that our model may be overfitting"
   ]
  },
  {
   "cell_type": "markdown",
   "metadata": {},
   "source": [
    "TASK 3: DECEISION TREE PARAMETER TUNING\n",
    "\n",
    "In above experiment, we used max_depth = 2, let us tune this parameter and change it to 3 and see how it will do"
   ]
  },
  {
   "cell_type": "code",
   "execution_count": 9,
   "metadata": {},
   "outputs": [
    {
     "name": "stdout",
     "output_type": "stream",
     "text": [
      "              precision    recall  f1-score   support\n",
      "\n",
      "           0       1.00      0.86      0.92     18400\n",
      "           1       0.39      1.00      0.56      1643\n",
      "\n",
      "    accuracy                           0.87     20043\n",
      "   macro avg       0.69      0.93      0.74     20043\n",
      "weighted avg       0.95      0.87      0.89     20043\n",
      "\n"
     ]
    }
   ],
   "source": [
    "dtclf = DecisionTreeClassifier(max_depth=3, random_state=42, class_weight='balanced')\n",
    "dtclf.fit(X_train, y_train)\n",
    "from sklearn.metrics import classification_report,confusion_matrix,accuracy_score, roc_curve, auc, precision_score\n",
    "y_pred_dt = dtclf.predict(X_test)\n",
    "\n",
    "print(classification_report(y_test, y_pred_dt))\n"
   ]
  },
  {
   "cell_type": "markdown",
   "metadata": {},
   "source": [
    "Observations:\n",
    "\n",
    "By just changing the max_depth to 3, model accuracy increased to 0.87 from 0.79, this shows that max_depth influencies classifier, the higher its value the better the accuracy and this is understandable as its fitting more deeply to the given dataset but that causes probably for model to perform perform poorly if introduced to new dataset"
   ]
  },
  {
   "cell_type": "markdown",
   "metadata": {},
   "source": [
    "TASK 4: TRAIN-TEST RATIO\n",
    "\n",
    "On this task, I will increase to 30% then to 60%, for this purpose I will create small method that will do splitting for me along with any preprocessing need on the train set.\n",
    "\n",
    "For this we will use max_depth=2 as that is our base configurations"
   ]
  },
  {
   "cell_type": "code",
   "execution_count": 10,
   "metadata": {},
   "outputs": [],
   "source": [
    "def split_dataset(test_ratio):\n",
    "    X_train, X_test, y_train, y_test = train_test_split(X, y, test_size=test_ratio, random_state=42, stratify=y, shuffle=True)\n",
    "    \n",
    "    # balancing only train sets seperately to avoid feature leaking\n",
    "    X_train, y_train = helper.balanceDataSet(X_train, y_train)\n",
    "\n",
    "    return X_train, X_test, y_train, y_test\n",
    "    "
   ]
  },
  {
   "cell_type": "markdown",
   "metadata": {},
   "source": [
    "Let us use test ratio 30% and see performance"
   ]
  },
  {
   "cell_type": "code",
   "execution_count": 11,
   "metadata": {},
   "outputs": [
    {
     "name": "stdout",
     "output_type": "stream",
     "text": [
      "              precision    recall  f1-score   support\n",
      "\n",
      "           0       1.00      0.77      0.87     27600\n",
      "           1       0.28      0.98      0.43      2464\n",
      "\n",
      "    accuracy                           0.79     30064\n",
      "   macro avg       0.64      0.87      0.65     30064\n",
      "weighted avg       0.94      0.79      0.84     30064\n",
      "\n"
     ]
    }
   ],
   "source": [
    "X_train, X_test, y_train, y_test = split_dataset(0.3)\n",
    "dtclf = DecisionTreeClassifier(max_depth=2, random_state=42, class_weight='balanced')\n",
    "dtclf.fit(X_train, y_train)\n",
    "from sklearn.metrics import classification_report,confusion_matrix,accuracy_score, roc_curve, auc, precision_score\n",
    "y_pred_dt = dtclf.predict(X_test)\n",
    "\n",
    "print(classification_report(y_test, y_pred_dt))\n"
   ]
  },
  {
   "cell_type": "markdown",
   "metadata": {},
   "source": [
    "Observations:\n",
    "\n",
    "Score stayed @0.79 same as when test_size was 0.2"
   ]
  },
  {
   "cell_type": "markdown",
   "metadata": {},
   "source": [
    "Let us use test ratio 60% and see scores"
   ]
  },
  {
   "cell_type": "code",
   "execution_count": 12,
   "metadata": {},
   "outputs": [
    {
     "name": "stdout",
     "output_type": "stream",
     "text": [
      "              precision    recall  f1-score   support\n",
      "\n",
      "           0       1.00      0.78      0.88     55200\n",
      "           1       0.28      0.98      0.44      4928\n",
      "\n",
      "    accuracy                           0.80     60128\n",
      "   macro avg       0.64      0.88      0.66     60128\n",
      "weighted avg       0.94      0.80      0.84     60128\n",
      "\n"
     ]
    }
   ],
   "source": [
    "X_train, X_test, y_train, y_test = split_dataset(0.6)\n",
    "dtclf = DecisionTreeClassifier(max_depth=2, random_state=42, class_weight='balanced')\n",
    "dtclf.fit(X_train, y_train)\n",
    "from sklearn.metrics import classification_report,confusion_matrix,accuracy_score, roc_curve, auc, precision_score\n",
    "y_pred_dt = dtclf.predict(X_test)\n",
    "\n",
    "print(classification_report(y_test, y_pred_dt))"
   ]
  },
  {
   "cell_type": "markdown",
   "metadata": {},
   "source": [
    "Observations:\n",
    "\n",
    "It actually performed better with test_size 60% but this is not reliable as if we look in to the positive class precision and f1 score is not that good"
   ]
  },
  {
   "cell_type": "markdown",
   "metadata": {},
   "source": [
    "TASK 5: Random forest Algorithm\n",
    "\n",
    "For this task I will use Random forest classifier on same dataset and see how its performing comparing to decision tree"
   ]
  },
  {
   "cell_type": "code",
   "execution_count": 18,
   "metadata": {},
   "outputs": [
    {
     "name": "stdout",
     "output_type": "stream",
     "text": [
      "              precision    recall  f1-score   support\n",
      "\n",
      "           0       0.98      0.95      0.96     18400\n",
      "           1       0.56      0.78      0.65      1643\n",
      "\n",
      "    accuracy                           0.93     20043\n",
      "   macro avg       0.77      0.86      0.81     20043\n",
      "weighted avg       0.95      0.93      0.94     20043\n",
      "\n"
     ]
    }
   ],
   "source": [
    "from sklearn.ensemble import RandomForestClassifier\n",
    "X_train, X_test, y_train, y_test = split_dataset(0.2)\n",
    "\n",
    "rfclf = RandomForestClassifier(max_depth=2, random_state=42, class_weight='balanced')\n",
    "rfclf.fit(X_train,y_train)\n",
    "\n",
    "y_pred = rfclf.predict(X_test)\n",
    "print(classification_report(y_test, y_pred))\n"
   ]
  },
  {
   "cell_type": "markdown",
   "metadata": {},
   "source": [
    "Observations:\n",
    "\n",
    "This seems to be doing better than decision tree with same parameter, its accuracy reached to 0.93 as you can observe from above table, it is also interesting that percision and f1 score of positive class show significant improvement when compared to decison tree with same hyperparameter configurations"
   ]
  },
  {
   "cell_type": "markdown",
   "metadata": {},
   "source": [
    "Let us now see how it performes when we increase test size to 60%"
   ]
  },
  {
   "cell_type": "code",
   "execution_count": 17,
   "metadata": {},
   "outputs": [
    {
     "name": "stdout",
     "output_type": "stream",
     "text": [
      "              precision    recall  f1-score   support\n",
      "\n",
      "           0       0.98      0.94      0.96     55200\n",
      "           1       0.53      0.78      0.63      4928\n",
      "\n",
      "    accuracy                           0.93     60128\n",
      "   macro avg       0.76      0.86      0.80     60128\n",
      "weighted avg       0.94      0.93      0.93     60128\n",
      "\n"
     ]
    }
   ],
   "source": [
    "from sklearn.ensemble import RandomForestClassifier\n",
    "X_train, X_test, y_train, y_test = split_dataset(0.6)\n",
    "\n",
    "rfclf = RandomForestClassifier(max_depth=2, random_state=42, class_weight='balanced')\n",
    "rfclf.fit(X_train,y_train)\n",
    "\n",
    "y_pred = rfclf.predict(X_test)\n",
    "print(classification_report(y_test, y_pred))\n"
   ]
  },
  {
   "cell_type": "markdown",
   "metadata": {},
   "source": [
    "Observations:\n",
    "\n",
    "Interestingly, percision for positive class decreased which is expected but dection tree was not performing it in he expected way.\n",
    "\n"
   ]
  },
  {
   "cell_type": "markdown",
   "metadata": {},
   "source": [
    "Let us try and tune some of the other hyperparameters of RandomForest classifier such as: 'n_estimators' which tunes number of trees in the forest"
   ]
  },
  {
   "cell_type": "code",
   "execution_count": 19,
   "metadata": {},
   "outputs": [
    {
     "name": "stdout",
     "output_type": "stream",
     "text": [
      "              precision    recall  f1-score   support\n",
      "\n",
      "           0       0.99      0.87      0.93     18400\n",
      "           1       0.39      0.92      0.55      1643\n",
      "\n",
      "    accuracy                           0.88     20043\n",
      "   macro avg       0.69      0.90      0.74     20043\n",
      "weighted avg       0.94      0.88      0.90     20043\n",
      "\n"
     ]
    }
   ],
   "source": [
    "from sklearn.ensemble import RandomForestClassifier\n",
    "X_train, X_test, y_train, y_test = split_dataset(0.2)\n",
    "\n",
    "rfclf = RandomForestClassifier(max_depth=2, random_state=42, class_weight='balanced', n_estimators=15)\n",
    "rfclf.fit(X_train,y_train)\n",
    "\n",
    "y_pred = rfclf.predict(X_test)\n",
    "print(classification_report(y_test, y_pred))\n"
   ]
  },
  {
   "cell_type": "markdown",
   "metadata": {},
   "source": [
    "Observations:\n",
    "\n",
    "This hyperparameter influences classifier, as shown above it actually decreased the accuracy and the reason s abovious that by default RandomClassifier makes this parameter=100, when we choose it to be 15 it actually had an impact on the classifier's performance.\n",
    "\n",
    "This hyperparameter is used to configure how many trees will be there in the forest"
   ]
  },
  {
   "cell_type": "markdown",
   "metadata": {},
   "source": [
    "# Conclusion:\n",
    "Decision Tree classifier  will do well with given dataset but it has two drawbacks that are corelated to each other:\n",
    "1. It overfits to given dataset\n",
    "2. It doesnt generalize well to new dataset\n",
    "\n",
    "I have also used RandomForestClassifier, it seems to be doing better than Decision tree classifier but it also suffers from ovefitting and generalization"
   ]
  }
 ],
 "metadata": {
  "interpreter": {
   "hash": "6d46af94c2bbce495f1e668725902fa517c90b1782bcfe2fce0dd9868df553d3"
  },
  "kernelspec": {
   "display_name": "Python 3.8.8 64-bit ('base': conda)",
   "language": "python",
   "name": "python3"
  },
  "language_info": {
   "codemirror_mode": {
    "name": "ipython",
    "version": 3
   },
   "file_extension": ".py",
   "mimetype": "text/x-python",
   "name": "python",
   "nbconvert_exporter": "python",
   "pygments_lexer": "ipython3",
   "version": "3.8.8"
  },
  "orig_nbformat": 4
 },
 "nbformat": 4,
 "nbformat_minor": 2
}
