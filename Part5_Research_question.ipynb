{
 "cells": [
  {
   "cell_type": "markdown",
   "metadata": {},
   "source": [
    "# PART 5: Research Question"
   ]
  },
  {
   "cell_type": "markdown",
   "metadata": {},
   "source": [
    "One of the biggest challanges I have faced while analysing selected dataset was the fact that its highly imbalanced dataset, running supervised and unsupervised learning techniques raised many difficulties such as:\n",
    "1. Dataset is biased towards majority class so it requires balancing.\n",
    "2. Balancing it before train_test split causes feature leakage where in case SMOTE is used same data points could be available in both test and train sets which causes high accuracy while model is not learning at all.\n",
    "3. Ofcourse there is universal rule, to split test_train first then balance train sets, but this wont work well if imbalance ratio is very high such 1:1000 perhabs, I have noticed that even though model is trained on balanced tran dataset when introduced to imbalanced test set it gets highly biased towards majority class.\n",
    "4. There is also metrics factor, selecting best metrics to measure model  is key in finding weather model is learning what we want it to learn or not."
   ]
  },
  {
   "cell_type": "markdown",
   "metadata": {},
   "source": [
    "So all these challanges and more, it would be an interesting research idea to have an algorithm that processes imbalnced dataset with respect to speceifity of given dataset such as imbalance ratio, tested class (in case of classification problem, ...) and so on. \n"
   ]
  },
  {
   "cell_type": "markdown",
   "metadata": {},
   "source": [
    "# RESEARCH ANSWER\n",
    "\n",
    "For this to work, I have decided to create a class 'imbalance' that will store important features related to dataset, then I defined different methods initials that solves the different problems stated on research question"
   ]
  },
  {
   "cell_type": "markdown",
   "metadata": {},
   "source": [
    "For instance, taking given dataset in this portfolio will use this idea to handle our imbalanced dataset"
   ]
  },
  {
   "cell_type": "code",
   "execution_count": 1,
   "metadata": {},
   "outputs": [],
   "source": [
    "# This is just method that will show class distribution, thisis local to given dataset\n",
    "from collections import Counter\n",
    "def classDistribution(dataset, class_attr):\n",
    "    classAttr = dataset[class_attr].values\n",
    "    counter = Counter(classAttr)\n",
    "    for cl,count in counter.items():\n",
    "\t    percent = count / len(classAttr) * 100\n",
    "\t    print('Class=%d, Instances=%d, Percentage=%.3f%%' % (cl, count, percent))\n"
   ]
  },
  {
   "cell_type": "code",
   "execution_count": 2,
   "metadata": {},
   "outputs": [
    {
     "name": "stdout",
     "output_type": "stream",
     "text": [
      "Class=0, Instances=6354407, Percentage=99.871%\n",
      "Class=1, Instances=8213, Percentage=0.129%\n"
     ]
    }
   ],
   "source": [
    "# Let us import our dataset\n",
    "import pandas as pd\n",
    "# Loading config files\n",
    "import json\n",
    "with open('config.json', 'r') as f:\n",
    "    config = json.load(f)\n",
    "\n",
    "# Loading datasets using pandas to variable 'transactions'\n",
    "dataset = pd.read_csv(config['Training_Dataset'])\n",
    "classDistribution(dataset, 'isFraud')\n"
   ]
  },
  {
   "cell_type": "markdown",
   "metadata": {},
   "source": [
    "As you can see dataset is highly imbalanced, with the help of imbalance class let us first balance it and get best measure metrics for it"
   ]
  },
  {
   "cell_type": "code",
   "execution_count": 4,
   "metadata": {},
   "outputs": [
    {
     "name": "stdout",
     "output_type": "stream",
     "text": [
      "Class=0, Instances=8213, Percentage=50.000%\n",
      "Class=1, Instances=8213, Percentage=50.000%\n",
      "Check:  F1-Score\n"
     ]
    }
   ],
   "source": [
    "import ImbalanceHandler as ra\n",
    "\n",
    "# just provide dataset and let other parameters use their default values\n",
    "imbalance_df = ra.imbalance(dataset, class_attr='isFraud')\n",
    "resumbled_dataset = imbalance_df.balance()\n",
    "classDistribution(resumbled_dataset, 'isFraud')\n",
    "print(\"Check: \",imbalance_df.measure_metric())"
   ]
  },
  {
   "cell_type": "markdown",
   "metadata": {},
   "source": [
    "As you can observer above, I have now balanced dataset, with an opinion of what measure metrics i should look out for, there are out there libraries such as imblearn with extensive set of tools that implement generic way of handling imbalances which requires extensive research from developers poin of view.\n",
    "\n",
    "But what these libraries lack is datset considerations and depend heavily on developer's knowledge of these techniques, with this basic class we can make sure that developer inputs configurations specific to the dataset's speceification and both balances it for her/him on the type they select while also given her/him an idea of what score she/he needs to check based on their dataset properties."
   ]
  },
  {
   "cell_type": "markdown",
   "metadata": {},
   "source": [
    "# References\n",
    "1. Imbalance Classification with python by Rich Larrabee\n",
    "2. Classification of Imbalanced Data: A Review by Yanmin Sun, Andrew K.C. Wong and Mohamed S.Kamel\n"
   ]
  }
 ],
 "metadata": {
  "interpreter": {
   "hash": "6d46af94c2bbce495f1e668725902fa517c90b1782bcfe2fce0dd9868df553d3"
  },
  "kernelspec": {
   "display_name": "Python 3.8.8 64-bit ('base': conda)",
   "language": "python",
   "name": "python3"
  },
  "language_info": {
   "codemirror_mode": {
    "name": "ipython",
    "version": 3
   },
   "file_extension": ".py",
   "mimetype": "text/x-python",
   "name": "python",
   "nbconvert_exporter": "python",
   "pygments_lexer": "ipython3",
   "version": "3.8.8"
  },
  "orig_nbformat": 4
 },
 "nbformat": 4,
 "nbformat_minor": 2
}
