{
 "cells": [
  {
   "cell_type": "markdown",
   "metadata": {},
   "source": [
    "# PART 4: Neural Networks and Convolutional Neural Networks"
   ]
  },
  {
   "cell_type": "markdown",
   "metadata": {},
   "source": [
    "# Setup"
   ]
  },
  {
   "cell_type": "code",
   "execution_count": 1,
   "metadata": {},
   "outputs": [],
   "source": [
    "# Python ≥3.5 is required\n",
    "import sys\n",
    "assert sys.version_info >= (3, 5)\n",
    "\n",
    "# Scikit-Learn ≥0.20 is required\n",
    "import sklearn\n",
    "assert sklearn.__version__ >= \"0.20\"\n",
    "\n",
    "#try:\n",
    "    # %tensorflow_version only exists in Colab.\n",
    "    #%tensorflow_version 2.x\n",
    "#except Exception:\n",
    " #   pass\n",
    "\n",
    "# TensorFlow ≥2.0 is required\n",
    "import tensorflow as tf\n",
    "assert tf.__version__ >= \"2.0\"\n",
    "\n",
    "# Common imports\n",
    "import numpy as np\n",
    "import os\n",
    "import pandas as pd\n",
    "from numpy import mean\n",
    "\n",
    "# to make this notebook's output stable across runs\n",
    "np.random.seed(42)\n",
    "\n",
    "from sklearn.model_selection import train_test_split\n",
    "from sklearn.metrics import classification_report,confusion_matrix,accuracy_score, roc_curve, auc, precision_score\n",
    "from sklearn.metrics import r2_score\n",
    "from sklearn.model_selection import train_test_split\n",
    "from sklearn.linear_model import LinearRegression\n",
    "\n",
    "# To plot pretty figures\n",
    "%matplotlib inline\n",
    "import matplotlib as mpl\n",
    "import matplotlib.pyplot as plt\n",
    "mpl.rc('axes', labelsize=14)\n",
    "mpl.rc('xtick', labelsize=12)\n",
    "mpl.rc('ytick', labelsize=12)\n"
   ]
  },
  {
   "cell_type": "markdown",
   "metadata": {},
   "source": [
    "LOADING DATA SET"
   ]
  },
  {
   "cell_type": "code",
   "execution_count": 2,
   "metadata": {},
   "outputs": [
    {
     "data": {
      "text/html": [
       "<div>\n",
       "<style scoped>\n",
       "    .dataframe tbody tr th:only-of-type {\n",
       "        vertical-align: middle;\n",
       "    }\n",
       "\n",
       "    .dataframe tbody tr th {\n",
       "        vertical-align: top;\n",
       "    }\n",
       "\n",
       "    .dataframe thead th {\n",
       "        text-align: right;\n",
       "    }\n",
       "</style>\n",
       "<table border=\"1\" class=\"dataframe\">\n",
       "  <thead>\n",
       "    <tr style=\"text-align: right;\">\n",
       "      <th></th>\n",
       "      <th>step</th>\n",
       "      <th>type</th>\n",
       "      <th>amount</th>\n",
       "      <th>oldbalanceOrg</th>\n",
       "      <th>newbalanceOrig</th>\n",
       "      <th>oldbalanceDest</th>\n",
       "      <th>newbalanceDest</th>\n",
       "      <th>isFraud</th>\n",
       "    </tr>\n",
       "  </thead>\n",
       "  <tbody>\n",
       "    <tr>\n",
       "      <th>0</th>\n",
       "      <td>1</td>\n",
       "      <td>3.0</td>\n",
       "      <td>9839.64</td>\n",
       "      <td>170136.0</td>\n",
       "      <td>160296.36</td>\n",
       "      <td>0.0</td>\n",
       "      <td>0.0</td>\n",
       "      <td>0</td>\n",
       "    </tr>\n",
       "    <tr>\n",
       "      <th>1</th>\n",
       "      <td>1</td>\n",
       "      <td>3.0</td>\n",
       "      <td>1864.28</td>\n",
       "      <td>21249.0</td>\n",
       "      <td>19384.72</td>\n",
       "      <td>0.0</td>\n",
       "      <td>0.0</td>\n",
       "      <td>0</td>\n",
       "    </tr>\n",
       "    <tr>\n",
       "      <th>2</th>\n",
       "      <td>1</td>\n",
       "      <td>4.0</td>\n",
       "      <td>181.00</td>\n",
       "      <td>181.0</td>\n",
       "      <td>0.00</td>\n",
       "      <td>0.0</td>\n",
       "      <td>0.0</td>\n",
       "      <td>1</td>\n",
       "    </tr>\n",
       "    <tr>\n",
       "      <th>3</th>\n",
       "      <td>1</td>\n",
       "      <td>1.0</td>\n",
       "      <td>181.00</td>\n",
       "      <td>181.0</td>\n",
       "      <td>0.00</td>\n",
       "      <td>21182.0</td>\n",
       "      <td>0.0</td>\n",
       "      <td>1</td>\n",
       "    </tr>\n",
       "    <tr>\n",
       "      <th>4</th>\n",
       "      <td>1</td>\n",
       "      <td>3.0</td>\n",
       "      <td>11668.14</td>\n",
       "      <td>41554.0</td>\n",
       "      <td>29885.86</td>\n",
       "      <td>0.0</td>\n",
       "      <td>0.0</td>\n",
       "      <td>0</td>\n",
       "    </tr>\n",
       "  </tbody>\n",
       "</table>\n",
       "</div>"
      ],
      "text/plain": [
       "   step  type    amount  oldbalanceOrg  newbalanceOrig  oldbalanceDest  \\\n",
       "0     1   3.0   9839.64       170136.0       160296.36             0.0   \n",
       "1     1   3.0   1864.28        21249.0        19384.72             0.0   \n",
       "2     1   4.0    181.00          181.0            0.00             0.0   \n",
       "3     1   1.0    181.00          181.0            0.00         21182.0   \n",
       "4     1   3.0  11668.14        41554.0        29885.86             0.0   \n",
       "\n",
       "   newbalanceDest  isFraud  \n",
       "0             0.0        0  \n",
       "1             0.0        0  \n",
       "2             0.0        1  \n",
       "3             0.0        1  \n",
       "4             0.0        0  "
      ]
     },
     "execution_count": 2,
     "metadata": {},
     "output_type": "execute_result"
    }
   ],
   "source": [
    "# The Data is uploaded to Notebook in csv file, \n",
    "# we will store it in dataFrame (transactions) using pandas read_csv method\n",
    "# in this Nootebook we will be analysing Test Data generated for credit card fraud.\n",
    "# This Data is downloded from kaggle from this link: https://www.kaggle.com/ealaxi/paysim1\n",
    "\n",
    "# Loading config files\n",
    "import json\n",
    "with open('config.json', 'r') as f:\n",
    "    config = json.load(f)\n",
    "\n",
    "# Loading datasets using pandas to variable 'transactions'\n",
    "transactions = pd.read_csv(config['Training_Dataset'])\n",
    "\n",
    "import helper\n",
    "# remoing unnecessary attributes that wont be used in our clustering\n",
    "transactions = helper.preprocessDataset(transactions)\n",
    "\n",
    "transactions.head()\n",
    "\n",
    "\n",
    "# checking data size after normalization\n",
    "#transactions.describe()\n",
    "#transactions.info(memory_usage = \"deep\")"
   ]
  },
  {
   "cell_type": "markdown",
   "metadata": {},
   "source": [
    "PREPARING TEST AND TRAIN SETS"
   ]
  },
  {
   "cell_type": "code",
   "execution_count": 3,
   "metadata": {},
   "outputs": [],
   "source": [
    "# get X and y\n",
    "X = transactions.iloc[:, :-1]\n",
    "y = transactions.isFraud\n",
    "\n",
    "from sklearn.preprocessing import MinMaxScaler\n",
    "# scale dataset to scale outliers\n",
    "scaler = MinMaxScaler()\n",
    "scaler.fit(X)\n",
    "X = scaler.transform(X)\n",
    "\n",
    "X, y = helper.balanceDataSet(X, y, 'undersample')\n",
    "\n",
    "# split dataset to test and train sets\n",
    "X_train, X_test, y_train, y_test = train_test_split(X, y, test_size=0.30, random_state=42, stratify=y, shuffle=True)\n"
   ]
  },
  {
   "cell_type": "markdown",
   "metadata": {},
   "source": [
    "# TASK1 LINEAR CLASSIFICATION\n",
    "Given dataset is binary classified data set that shows wether a particular instance (transaction) is genuine(0) or fraud(1), in the below code we will use linear regression from sklearn to see wether our dataset is linearly sepratable or not"
   ]
  },
  {
   "cell_type": "markdown",
   "metadata": {},
   "source": [
    "TASK 1.1: Applying Perceptron model to train dataset and calculating accuracies"
   ]
  },
  {
   "cell_type": "code",
   "execution_count": 4,
   "metadata": {},
   "outputs": [
    {
     "name": "stdout",
     "output_type": "stream",
     "text": [
      "              precision    recall  f1-score   support\n",
      "\n",
      "     Genuine       0.70      1.00      0.82      5749\n",
      "       Fraud       1.00      0.58      0.73      5749\n",
      "\n",
      "    accuracy                           0.79     11498\n",
      "   macro avg       0.85      0.79      0.78     11498\n",
      "weighted avg       0.85      0.79      0.78     11498\n",
      "\n",
      "Confusion Matrix:\n",
      "  [[5740    9]\n",
      " [2431 3318]]\n"
     ]
    }
   ],
   "source": [
    "from sklearn.linear_model import Perceptron\n",
    "\n",
    "perceptron = Perceptron(max_iter=1000, tol=1e-3, random_state=42, class_weight='balanced')\n",
    "perceptron.fit(X_train,y_train)\n",
    "\n",
    "y_pred = perceptron.predict(X_train)\n",
    "print(classification_report(y_train, y_pred, target_names=[\"Genuine\", \"Fraud\"]))\n",
    "print(\"Confusion Matrix:\\n \", confusion_matrix(y_train,y_pred))\n"
   ]
  },
  {
   "cell_type": "markdown",
   "metadata": {},
   "source": [
    "Observations:\n",
    "\n",
    "This scored accuracy of 0.79 even though same data that model is trained was used for testing, observing the confusion matrix shows high false negative for positive class, that it s considering 2431 transaction as genuince even though they are rfraud, this is early indication that this dataset is not linearly seprable, we will analysis to confirm this with different techniques as below"
   ]
  },
  {
   "cell_type": "markdown",
   "metadata": {},
   "source": [
    "TASK 1.2: Measurement of accuracies when we run 10 fold cross validation with Perceptron"
   ]
  },
  {
   "cell_type": "code",
   "execution_count": 7,
   "metadata": {},
   "outputs": [
    {
     "name": "stdout",
     "output_type": "stream",
     "text": [
      "accuracy:  0.7226453248571537\n",
      "precision:  0.8424981585004009\n",
      "recall:  0.6978682017876079\n",
      "f1_score:  0.7009463306029051\n"
     ]
    }
   ],
   "source": [
    "from sklearn.model_selection import KFold, StratifiedKFold, RepeatedStratifiedKFold, cross_validate\n",
    "from numpy import mean\n",
    "from sklearn.metrics import make_scorer, accuracy_score, precision_score, recall_score, f1_score\n",
    "\n",
    "scoring = {'accuracy' : make_scorer(accuracy_score), \n",
    "           'precision' : make_scorer(precision_score),\n",
    "           'recall' : make_scorer(recall_score), \n",
    "           'f1_score' : make_scorer(f1_score)}\n",
    "\n",
    "kfold = StratifiedKFold(n_splits=10, shuffle=True, random_state=10)#KFold(n_splits=10, shuffle=True, random_state=10)\n",
    "model = Perceptron(max_iter=1000, tol=1e-3, random_state=42, class_weight='balanced') \n",
    "\n",
    "results = cross_validate(estimator=model, X=X_train, y=y_train, cv=kfold, scoring=scoring)\n",
    "#print(results)\n",
    "print(\"accuracy: \", mean(results['test_accuracy']))\n",
    "print(\"precision: \", mean(results['test_precision']))\n",
    "print(\"recall: \", mean(results['test_recall']))\n",
    "print(\"f1_score: \", mean(results['test_f1_score']))\n"
   ]
  },
  {
   "cell_type": "markdown",
   "metadata": {},
   "source": [
    "Observations: \n",
    "\n",
    "As we can observe here accuracy falls to 0.72 when 10 fold cross validation is run, this shows model doesnt generalize well to new data, it also confirms partially from my previous intuition that dataset is not linearly seperable.\n",
    "\n",
    "In below cell we will test datset we created previously to see how much model can generalize to new data"
   ]
  },
  {
   "cell_type": "code",
   "execution_count": 8,
   "metadata": {},
   "outputs": [
    {
     "name": "stdout",
     "output_type": "stream",
     "text": [
      "              precision    recall  f1-score   support\n",
      "\n",
      "           0       0.70      1.00      0.82      2464\n",
      "           1       1.00      0.57      0.73      2464\n",
      "\n",
      "    accuracy                           0.79      4928\n",
      "   macro avg       0.85      0.79      0.78      4928\n",
      "weighted avg       0.85      0.79      0.78      4928\n",
      "\n",
      "Confusion matrix:\n",
      " [[2461    3]\n",
      " [1048 1416]]\n"
     ]
    }
   ],
   "source": [
    "linearClf = Perceptron(max_iter=1000, tol=1e-3, random_state=42, class_weight='balanced')\n",
    "linearClf.fit(X_train, y_train)\n",
    "y_pred = linearClf.predict(X_test)\n",
    "print(classification_report(y_test, y_pred))\n",
    "print(\"Confusion matrix:\\n\", confusion_matrix(y_test,y_pred))\n"
   ]
  },
  {
   "cell_type": "markdown",
   "metadata": {},
   "source": [
    "Observations:\n",
    "\n",
    "Even though accuracy stayed at 0.79 we can observe from confusion matrix that only 57% of fraud class is classified correctly by the model, this confirms that model doesnt generalize well to new data"
   ]
  },
  {
   "cell_type": "markdown",
   "metadata": {},
   "source": [
    "# TASK 2 MULTI LAYER PERCEPTRON"
   ]
  },
  {
   "cell_type": "markdown",
   "metadata": {},
   "source": [
    "This method will help us draw graphs for the MLP hyperparameter tuning"
   ]
  },
  {
   "cell_type": "code",
   "execution_count": 28,
   "metadata": {},
   "outputs": [],
   "source": [
    "def drawGraphs (epochs, lr, loss, accuracy):\n",
    "    import matplotlib.pyplot as plt\n",
    "    \n",
    "    # drawing epoches vs loss\n",
    "    plt.plot(range(1,epochs+1), loss, 'r', label='loss')\n",
    "    plt.title('loss when learning rate is {}'.format(lr))\n",
    "    plt.xlabel('Epochs')\n",
    "    plt.ylabel('Loss')\n",
    "    plt.legend()\n",
    "    plt.show()\n",
    "\n",
    "    # drawing epoches vs accuracy \n",
    "    #plt.plot(range(1,epochs+1), accuracy, 'g', label='accuracy')\n",
    "    #plt.title('accuracy when learning rate is {}'.format(lr))\n",
    "    #plt.xlabel('Epochs')\n",
    "    #plt.ylabel('Accuracy')\n",
    "    #plt.legend()\n",
    "    #plt.show()\n"
   ]
  },
  {
   "cell_type": "code",
   "execution_count": 46,
   "metadata": {},
   "outputs": [
    {
     "name": "stdout",
     "output_type": "stream",
     "text": [
      "best loss:  0.09401195936624775\n",
      "accuracy:  0.9598214285714286\n",
      "Max_iteration:  598\n",
      "Num of layers:  3\n",
      "Num of output layer:  1\n"
     ]
    },
    {
     "data": {
      "image/png": "[encoded data removed]",
      "text/plain": [
       "<Figure size 432x288 with 1 Axes>"
      ]
     },
     "metadata": {
      "needs_background": "light"
     },
     "output_type": "display_data"
    }
   ],
   "source": [
    "from sklearn.neural_network import MLPClassifier \n",
    "\n",
    "mlp_clf = MLPClassifier(random_state=42, max_iter=2000)\n",
    "mlp_clf.fit(X_train, y_train)\n",
    "\n",
    "y_pred = mlp_clf.predict(X_test)\n",
    "print('best loss: ',mlp_clf.best_loss_)\n",
    "print('accuracy: ',mlp_clf.score(X_test, y_test))\n",
    "\n",
    "print('Max_iteration: ', mlp_clf.n_iter_)\n",
    "print('Num of layers: ', mlp_clf.n_layers_)\n",
    "print('Num of output layer: ', mlp_clf.n_outputs_)\n",
    "drawGraphs(mlp_clf.n_iter_, mlp_clf.learning_rate, mlp_clf.loss_curve_, [])"
   ]
  },
  {
   "cell_type": "markdown",
   "metadata": {},
   "source": [
    "Observation:\n",
    "\n",
    "Using default values for all hyperparameters for the MLP, we can see that model is performing relatively good, observing the graph above we can see that we reached best loss 0.09 and accuracy 0.95.\n",
    "\n",
    "In below cells, I will tune hyperparameters and see how it influnces prediction of the classifier"
   ]
  },
  {
   "cell_type": "markdown",
   "metadata": {},
   "source": [
    "Let us first change hidden layers to 2 with 20 neurons in first hidden layer and 8 neaurons in the second hidden layer, let us also set the activation function to relu and see how that influences the loss"
   ]
  },
  {
   "cell_type": "code",
   "execution_count": 47,
   "metadata": {},
   "outputs": [
    {
     "name": "stdout",
     "output_type": "stream",
     "text": [
      "accuracy:  0.9703733766233766\n",
      "best loss:  0.08594086074839075\n",
      "Max_iteration:  395\n",
      "Num of layers:  4\n",
      "Num of output layer:  1\n"
     ]
    },
    {
     "data": {
      "image/png": "[encoded data removed]",
      "text/plain": [
       "<Figure size 432x288 with 1 Axes>"
      ]
     },
     "metadata": {
      "needs_background": "light"
     },
     "output_type": "display_data"
    }
   ],
   "source": [
    "#activation='logistic', solver='adam', alpha=0.0001,learning_rate='constant', learning_rate_init=0.001\n",
    "mlp_clf = MLPClassifier(max_iter=2000, random_state=42, hidden_layer_sizes=(20,8), activation='relu')\n",
    "mlp_clf.fit(X_train, y_train)\n",
    "\n",
    "y_pred = mlp_clf.predict(X_test)\n",
    "print('accuracy: ',mlp_clf.score(X_test, y_test))\n",
    "print('best loss: ',mlp_clf.best_loss_)\n",
    "print('Max_iteration: ', mlp_clf.n_iter_)\n",
    "print('Num of layers: ', mlp_clf.n_layers_)\n",
    "print('Num of output layer: ', mlp_clf.n_outputs_)\n",
    "drawGraphs(mlp_clf.n_iter_, mlp_clf.learning_rate, mlp_clf.loss_curve_, [])"
   ]
  },
  {
   "cell_type": "markdown",
   "metadata": {},
   "source": [
    "Observations:\n",
    "\n",
    "With just two hidden layer and changing activation function to relu, the loss improved and reached as low as 0.08, and optimal minima was found by iteration 395, it also produced accuracy of 0.97 which is good"
   ]
  },
  {
   "cell_type": "markdown",
   "metadata": {},
   "source": [
    "Keeping in mind the two hidden layer structure with activation layer = relue, i will tune the learning rate and see how that influences the training the model, i will set learning rate to 0.01"
   ]
  },
  {
   "cell_type": "code",
   "execution_count": 48,
   "metadata": {},
   "outputs": [
    {
     "name": "stdout",
     "output_type": "stream",
     "text": [
      "accuracy:  0.9823457792207793\n",
      "best loss:  0.04525249230321203\n",
      "Max_iteration:  249\n",
      "Num of layers:  4\n",
      "Num of output layer:  1\n"
     ]
    },
    {
     "data": {
      "image/png": "[encoded data removed]",
      "text/plain": [
       "<Figure size 432x288 with 1 Axes>"
      ]
     },
     "metadata": {
      "needs_background": "light"
     },
     "output_type": "display_data"
    }
   ],
   "source": [
    "mlp_clf = MLPClassifier(max_iter=2000, random_state=42, hidden_layer_sizes=(20,8), \n",
    "                                activation='relu', learning_rate_init=0.01)\n",
    "mlp_clf.fit(X_train, y_train)\n",
    "\n",
    "y_pred = mlp_clf.predict(X_test)\n",
    "\n",
    "print('accuracy: ',mlp_clf.score(X_test, y_test))\n",
    "print('best loss: ',mlp_clf.best_loss_)\n",
    "print('Max_iteration: ', mlp_clf.n_iter_)\n",
    "print('Num of layers: ', mlp_clf.n_layers_)\n",
    "print('Num of output layer: ', mlp_clf.n_outputs_)\n",
    "drawGraphs(mlp_clf.n_iter_, mlp_clf.learning_rate, mlp_clf.loss_curve_, [])"
   ]
  },
  {
   "cell_type": "markdown",
   "metadata": {},
   "source": [
    "Observations:\n",
    "\n",
    "Keeping hidden layers two as previous step and changing just learning rate to 0.1 constant through all epochs and with accuracy of 0.98, i observe improvement in loss that produces best at 0.045, getting best optima at iteration 249"
   ]
  },
  {
   "cell_type": "markdown",
   "metadata": {},
   "source": [
    "on this next cell, I will change validation threshold to 0.2 and also allow early stopping while configuring solver to be stochasic gradiant descent (sgd), I will also change lear_rate to adaptive and set learning_rate_intial to 0.01 and see how these will influence the MLP"
   ]
  },
  {
   "cell_type": "code",
   "execution_count": 55,
   "metadata": {},
   "outputs": [
    {
     "name": "stdout",
     "output_type": "stream",
     "text": [
      "best loss:  0.11983647750639556\n",
      "accuracy:  0.966314935064935\n",
      "Max_iteration:  49\n",
      "loss:  0.11983647750639556\n",
      "Num of layers:  4\n",
      "Num of output layer:  1\n"
     ]
    },
    {
     "data": {
      "image/png": "[encoded data removed]",
      "text/plain": [
       "<Figure size 432x288 with 1 Axes>"
      ]
     },
     "metadata": {
      "needs_background": "light"
     },
     "output_type": "display_data"
    }
   ],
   "source": [
    "mlp_clf = MLPClassifier(max_iter=2000, random_state=42, hidden_layer_sizes=(20,8),\n",
    "                                activation='relu', learning_rate='adaptive', learning_rate_init=0.1, validation_fraction=0.2,\n",
    "                                early_stopping=True)\n",
    "mlp_clf.fit(X_train, y_train)\n",
    "\n",
    "y_pred = mlp_clf.predict(X_test)\n",
    "\n",
    "print('best loss: ',mlp_clf.loss_)\n",
    "print('accuracy: ',mlp_clf.score(X_test, y_test))\n",
    "print('Max_iteration: ', mlp_clf.n_iter_)\n",
    "print('loss: ', mlp_clf.loss_)\n",
    "print('Num of layers: ', mlp_clf.n_layers_)\n",
    "print('Num of output layer: ', mlp_clf.n_outputs_)\n",
    "drawGraphs(mlp_clf.n_iter_, mlp_clf.learning_rate, mlp_clf.loss_curve_, [])"
   ]
  },
  {
   "cell_type": "markdown",
   "metadata": {},
   "source": [
    "Observations:\n",
    "\n",
    "With early stopping enabled, accuracy droped to 0.96 while loss stayed @0.11, from the  graph one can observe that minimal optima is not reached yet "
   ]
  },
  {
   "cell_type": "markdown",
   "metadata": {},
   "source": [
    "Lastly, we used relu as the activation through out previous experiments, we will try to change our best scenario and see how that influencies MLP"
   ]
  },
  {
   "cell_type": "code",
   "execution_count": 57,
   "metadata": {},
   "outputs": [
    {
     "name": "stdout",
     "output_type": "stream",
     "text": [
      "accuracy:  0.9717938311688312\n",
      "best loss:  0.10207003953256927\n",
      "Max_iteration:  250\n",
      "Num of layers:  4\n",
      "Num of output layer:  1\n"
     ]
    },
    {
     "data": {
      "image/png": "[encoded data removed]",
      "text/plain": [
       "<Figure size 432x288 with 1 Axes>"
      ]
     },
     "metadata": {
      "needs_background": "light"
     },
     "output_type": "display_data"
    }
   ],
   "source": [
    "mlp_clf = MLPClassifier(max_iter=2000, random_state=42, hidden_layer_sizes=(20,8), \n",
    "                                activation='logistic', learning_rate_init=0.01)\n",
    "mlp_clf.fit(X_train, y_train)\n",
    "\n",
    "y_pred = mlp_clf.predict(X_test)\n",
    "\n",
    "print('accuracy: ',mlp_clf.score(X_test, y_test))\n",
    "print('best loss: ',mlp_clf.best_loss_)\n",
    "print('Max_iteration: ', mlp_clf.n_iter_)\n",
    "print('Num of layers: ', mlp_clf.n_layers_)\n",
    "print('Num of output layer: ', mlp_clf.n_outputs_)\n",
    "drawGraphs(mlp_clf.n_iter_, mlp_clf.learning_rate, mlp_clf.loss_curve_, [])"
   ]
  },
  {
   "cell_type": "markdown",
   "metadata": {},
   "source": [
    "Observations:\n",
    "\n",
    "From the result above we see that activation function has great influence on MLP, as loss increased to 0.10 from 0.04 when it was relu.\n",
    "\n",
    "This can be explained in the fact that logistic calculation and its derivitives for back propogations takes longer than relu, simply relu is much faster and simpler hence it does better specially on hidden layers"
   ]
  },
  {
   "cell_type": "markdown",
   "metadata": {},
   "source": [
    "# Coclusion:\n",
    "1. MLP is doing much better on given dataset when compared to Linear classifiers with sometimes accuracy reaching more than 90%, so it genrelized well to test_data.\n",
    "2. Hyperparameters such epochs, hidden_layers, activation functions, momentum and so on have greate influence on how well MLP will perform:\n",
    "3. For just one hidden layer even with relu activation function mlp did not as good as when we increase the hidden layers.\n",
    "4. I observed that Relu activation function doing much better than logistic and slightly better than tanh, this is because it is simpler and its derivitives is much simpler.\n",
    "\n"
   ]
  },
  {
   "cell_type": "markdown",
   "metadata": {},
   "source": [
    "# Convolutional Neural Networks"
   ]
  },
  {
   "cell_type": "markdown",
   "metadata": {},
   "source": [
    "I have financial dataset which detects frauds based on given scenarios, we have trained models from supervised learning to unsupervised learning, some suffering from overfiting, others from data density while some did perform well. That being the case, CNN is mostly used for image dataset which I did not choose for this profitlio.\n",
    "\n",
    "That being said, there are aspiring researches being performed using CNN for fraud detection, some finding very good results even better than MLP or SVM or Random Forest and other supervised learning techniques.\n",
    "\n",
    "I will not be doing CNN for this particular coursework, but for interesting ideas, you can see papers written using CNN for Fraud detection such as:\n",
    "1. ConvNets for Fraud Detection analysis by Alae Chouiekha, EL Hassane IbnEL Hajb; link: https://doi.org/10.1016/j.procs.2018.01.107\n",
    "2. Credit Card Fraud Detection Using Convolutional Neural Networks by Kang Fu, Dawei Cheng, Yi Tu, Liqing Zhang; link: https://link.springer.com/chapter/10.1007/978-3-319-46675-0_53\n"
   ]
  }
 ],
 "metadata": {
  "interpreter": {
   "hash": "6d46af94c2bbce495f1e668725902fa517c90b1782bcfe2fce0dd9868df553d3"
  },
  "kernelspec": {
   "display_name": "Python 3.8.8 64-bit ('base': conda)",
   "language": "python",
   "name": "python3"
  },
  "language_info": {
   "codemirror_mode": {
    "name": "ipython",
    "version": 3
   },
   "file_extension": ".py",
   "mimetype": "text/x-python",
   "name": "python",
   "nbconvert_exporter": "python",
   "pygments_lexer": "ipython3",
   "version": "3.8.8"
  },
  "orig_nbformat": 4
 },
 "nbformat": 4,
 "nbformat_minor": 2
}
